{
 "cells": [
  {
   "cell_type": "code",
   "execution_count": 136,
   "metadata": {
    "scrolled": false
   },
   "outputs": [],
   "source": [
    "from probabilidades import *\n",
    "import csv\n",
    "import pandas as pd\n",
    "\n",
    "PDSexo = ProbDist(\n",
    "    Sexo_M=4,\n",
    "    Sexo_F=1,\n",
    ")\n",
    "\n",
    "PDIdades = ProbDist(\n",
    "    {'Idade_A':4,\n",
    "    'Idade_B':1,\n",
    "    'Idade_C':0,\n",
    "    'Idade_D':0}\n",
    ")\n",
    "\n",
    "\n",
    "\n",
    "pd_idade_sexo = joint(PDSexo, PDIdades, ' ')\n",
    "\n",
    "with open('dados/trab_academicos.csv', 'r', encoding='utf8', newline='') as data:\n",
    "    dados_brutos = pd.read_csv(data, delimiter=',')"
   ]
  },
  {
   "cell_type": "code",
   "execution_count": 137,
   "metadata": {
    "scrolled": false
   },
   "outputs": [],
   "source": [
    "#Nomalização de dados\n",
    "\n",
    "dados = dados_brutos.rename(columns={'Quais dos seguintes ambientes você utiliza na edição de seus trabalhos?': 'ambientes',\n",
    "                                    'Quais dos seguintes problemas você possui no momento da edição de trabalhos acadêmicos?': 'dificuldades',\n",
    "                                    'Quais destas opções você gostaria que uma ferramenta de edição fornecesse como ajuda na edição de um trabalho acadêmico?': 'ajuda',\n",
    "                                     'Com que frequência você realiza trabalhos acadêmicos?': 'frequencia',\n",
    "                                     'Qual sua formação acadêmica?': 'nivel_ensino'\n",
    "                                    })\n",
    "\n",
    "for col in dados.columns:\n",
    "    dados[col] = dados[col].str.lower()\n"
   ]
  },
  {
   "cell_type": "code",
   "execution_count": 138,
   "metadata": {},
   "outputs": [],
   "source": [
    "#Funções de frequencia para montar as distribuições\n",
    "def frequencia_dado(coluna):\n",
    "    \"\"\"Busca as frequencias para todos os valores possíveis da coluna\n",
    "    param: Coluna a realizar a contagem da frequência\n",
    "    return: Dicionário com a estrutura Valor:Freq\n",
    "    \"\"\"\n",
    "    freq = {}\n",
    "    for nivel in dados[coluna].unique():\n",
    "        freq[nivel] = len(dados.loc[dados[coluna] == nivel])\n",
    "    return freq\n",
    "\n",
    "def frequencia_contida(coluna, data_freq):\n",
    "    \"\"\"Para perguntas com multiplas escolhas possíveis\n",
    "    param: Coluna do dados em que deve ocorrer a busca\n",
    "    param: Lista com os valores a serem buscadas as frêquencias\n",
    "    \"\"\"\n",
    "    freq = {}\n",
    "    for data in data_freq:\n",
    "        freq[data] = len(dados.loc[dados[coluna].str.contains(data, case=False)])\n",
    "    return freq\n",
    "\n",
    "\n",
    "   \n"
   ]
  },
  {
   "cell_type": "markdown",
   "metadata": {},
   "source": [
    "# Pergunta\n",
    "1. Qual a probabilidade de uma pessoa que tenha respondido ao questionário ser do sexo masculino?\n",
    "<br><span style=\"color: green;\">R: Segundo o IBGE já que o questionário foi aplicado no Brasil, a probabilidade das pessoas que responderam o questionário ser do sexo masculino é de 48,5, isso com base no levantamento parcial para o ano de 2017.<span>"
   ]
  },
  {
   "cell_type": "markdown",
   "metadata": {},
   "source": [
    "## Pergunta\n",
    "2. Dado que uma pessoa indique que sua formação acadêmica é Ensino Superior Incompleto qual a probabilidade de ela ter problemas com Criar referências, Fazer citações ou Numeração de páginas?"
   ]
  },
  {
   "cell_type": "code",
   "execution_count": 139,
   "metadata": {},
   "outputs": [],
   "source": [
    "freq_nivel = frequencia_dado('nivel_ensino')\n",
    "dist_ensino = ProbDist(freq_nivel)\n",
    "\n",
    "possiveis_problemas = list(set(';'.join(dados['dificuldades'].values).split(';')))\n",
    "\n",
    "freq_problemas = frequencia_contida('dificuldades', possiveis_problemas)\n",
    "dist_problemas = ProbDist(freq_problemas)\n",
    "\n",
    "PDnivel_problema = joint(dist_ensino, dist_problemas, ' ')\n",
    "\n",
    "#Predicados\n",
    "def superior_incompleto(r):\n",
    "    return 'superior incompleto' in r\n",
    "\n",
    "def  dificuldades(r):\n",
    "    return 'criar referências' in r or 'fazer citações' in r or 'numeração de páginas' in r\n"
   ]
  },
  {
   "cell_type": "code",
   "execution_count": 140,
   "metadata": {
    "scrolled": true
   },
   "outputs": [
    {
     "name": "stdout",
     "output_type": "stream",
     "text": [
      "A resposta da pergunta 2 é 48.6%'\n"
     ]
    }
   ],
   "source": [
    "probabilidade_resposta2 = P(dificuldades, tal_que(superior_incompleto, PDnivel_problema))\n",
    "print(\"A resposta da pergunta 2 é %.1f%%'\" % (probabilidade_resposta2 * 100))"
   ]
  },
  {
   "cell_type": "markdown",
   "metadata": {},
   "source": [
    "## Pergunta\n",
    "3. Dado que uma pessoa indique que utiliza o ambiente Word qual a probabilidade de que o problema na edição de trabalhos acadêmicos seja Criação de sumários?"
   ]
  },
  {
   "cell_type": "code",
   "execution_count": 141,
   "metadata": {},
   "outputs": [
    {
     "name": "stderr",
     "output_type": "stream",
     "text": [
      "c:\\program files\\python36\\lib\\site-packages\\ipykernel_launcher.py:19: UserWarning: This pattern has match groups. To actually get the groups, use str.extract.\n"
     ]
    }
   ],
   "source": [
    "possiveis_ferramentas = list(set(';'.join(dados['ambientes'].values).split(';')))\n",
    "\n",
    "freq_ambientes = frequencia_contida('ambientes', possiveis_ferramentas)\n",
    "\n",
    "dist_ambientes = ProbDist(freq_ambientes)\n",
    "\n",
    "PDambientes_problemas = joint(dist_ambientes, dist_problemas, ' ')\n",
    "\n",
    "def word(r):\n",
    "    return 'word' in r\n",
    "\n",
    "def sumario(r):\n",
    "    return 'criação de sumários' in r"
   ]
  },
  {
   "cell_type": "code",
   "execution_count": 142,
   "metadata": {},
   "outputs": [
    {
     "name": "stdout",
     "output_type": "stream",
     "text": [
      "A resposta da pergunta 3 é 18.1%'\n",
      "0.18148554701792902\n"
     ]
    }
   ],
   "source": [
    "probabilidade_resposta3 = P(sumario, tal_que(word, PDambientes_problemas))\n",
    "print(\"A resposta da pergunta 3 é %.1f%%'\" % (probabilidade_resposta3 * 100))\n",
    "print(probabilidade_resposta3)\n"
   ]
  },
  {
   "cell_type": "markdown",
   "metadata": {},
   "source": [
    "## Pergunta\n",
    "4. Dado que uma pessoa indique que utiliza o ambiente Word e seu problema de edição de trabalhos acadêmicos seja Criação de sumários qual a probabilidade de que ela gostaria que uma ferramenta de edição fornecesse como ajuda a Criação automática de sumários?"
   ]
  },
  {
   "cell_type": "code",
   "execution_count": 143,
   "metadata": {},
   "outputs": [],
   "source": [
    "#Predicados\n",
    "def word_criacao_sumario(r):\n",
    "    return 'word' in r and 'criação de sumário' in r\n",
    "\n",
    "def cricao_sumario(r):\n",
    "    return 'criação automática de sumários' in r\n",
    "\n",
    "possiveis_ajudas = list(set(';'.join(dados['ajuda'].values).split(';')))\n",
    "dist_ajuda = frequencia_contida('ajuda', possiveis_ajudas)\n",
    "PDAjuda = ProbDist(dist_ajuda)\n",
    "\n",
    "PDAjuda_ambientes_problemas = joint(PDambientes_problemas, PDAjuda, ' ')"
   ]
  },
  {
   "cell_type": "code",
   "execution_count": 144,
   "metadata": {},
   "outputs": [
    {
     "name": "stdout",
     "output_type": "stream",
     "text": [
      "A resposta da pergunta 4 é 11.5%'\n",
      "0.11513157894736842\n"
     ]
    }
   ],
   "source": [
    "probabilidade_resposta4 = P(cricao_sumario, tal_que(word_criacao_sumario, PDAjuda_ambientes_problemas))\n",
    "print(\"A resposta da pergunta 4 é %.1f%%'\" % (probabilidade_resposta4 * 100))\n",
    "print(probabilidade_resposta4)"
   ]
  },
  {
   "cell_type": "markdown",
   "metadata": {},
   "source": [
    "# Pergunta\n",
    "5. Dado que uma pessoa indique que sua formação acadêmica é Ensino Fundamental Completo qual a probabilidade de ela utilizar Google Docs ou Word como ambiente de edição de trabalhos?"
   ]
  },
  {
   "cell_type": "code",
   "execution_count": 145,
   "metadata": {},
   "outputs": [],
   "source": [
    "#Predicado\n",
    "def google_word(r):\n",
    "    return 'word' in r or 'google docs' in r\n",
    "\n",
    "def ensino_fundamental(r):\n",
    "    return 'ensino fundamental completo' in r\n",
    "\n",
    "PDambientes_ensino = joint(dist_ambientes, dist_ensino, ' ')"
   ]
  },
  {
   "cell_type": "code",
   "execution_count": 146,
   "metadata": {},
   "outputs": [
    {
     "name": "stdout",
     "output_type": "stream",
     "text": [
      "A resposta da pergunta 5 é 77.8%'\n",
      "0.7777777777777779\n"
     ]
    }
   ],
   "source": [
    "probabilidade_resposta5 = P(google_word, tal_que(ensino_fundamental, PDambientes_ensino))\n",
    "print(\"A resposta da pergunta 5 é %.1f%%'\" % (probabilidade_resposta5 * 100))\n",
    "print(probabilidade_resposta5)"
   ]
  },
  {
   "cell_type": "markdown",
   "metadata": {},
   "source": [
    "# Pergunta\n",
    "6. Dado que uma pessoa indique que sua formação acadêmica é Ensino Superior Incompleto ou Ensino Superior Completo qual a probabilidade de ela não utilizar nem Google Docs e nem Word?"
   ]
  },
  {
   "cell_type": "code",
   "execution_count": 147,
   "metadata": {},
   "outputs": [],
   "source": [
    "#Predicados\n",
    "\n",
    "def superior(r):\n",
    "    return 'ensino superior' in r\n",
    "\n",
    "def not_google_word(r):\n",
    "    return 'google docs' not in r and 'word' not in r"
   ]
  },
  {
   "cell_type": "code",
   "execution_count": 148,
   "metadata": {},
   "outputs": [
    {
     "name": "stdout",
     "output_type": "stream",
     "text": [
      "A resposta da pergunta 6 é 22.2%'\n",
      "0.22222222222222207\n"
     ]
    }
   ],
   "source": [
    "probabilidade_resposta6 = P(not_google_word,tal_que(superior, PDambientes_ensino))\n",
    "print(\"A resposta da pergunta 6 é %.1f%%'\" % (probabilidade_resposta6 * 100))\n",
    "print(probabilidade_resposta6)"
   ]
  },
  {
   "cell_type": "markdown",
   "metadata": {},
   "source": [
    "# Pergunta\n",
    "7. Dado que uma pessoa indique que utilize o ambiente Word qual os dois problemas com maiores probabilidades -- e quais seriam elas?"
   ]
  },
  {
   "cell_type": "code",
   "execution_count": 161,
   "metadata": {},
   "outputs": [],
   "source": [
    "ferramenta_problema = joint(dist_ambientes, dist_problemas, '--')\n",
    "word_problema = []\n",
    "for i, y in ferramenta_problema.items():\n",
    "    if 'word--' in i:\n",
    "       word_problema.append((i,y))\n"
   ]
  },
  {
   "cell_type": "code",
   "execution_count": 163,
   "metadata": {},
   "outputs": [],
   "source": [
    "ordenar_word_problema = sorted(word_problema, key=lambda tup: tup[1])"
   ]
  },
  {
   "cell_type": "code",
   "execution_count": 166,
   "metadata": {},
   "outputs": [
    {
     "name": "stdout",
     "output_type": "stream",
     "text": [
      "[('word--fazer citações', 0.07626984126984121), ('word--criação de sumários', 0.07873015873015868)]\n"
     ]
    }
   ],
   "source": [
    "print(ordenar_word_problema[-2:])"
   ]
  }
 ],
 "metadata": {
  "kernelspec": {
   "display_name": "Python 3",
   "language": "python",
   "name": "python3"
  },
  "language_info": {
   "codemirror_mode": {
    "name": "ipython",
    "version": 3
   },
   "file_extension": ".py",
   "mimetype": "text/x-python",
   "name": "python",
   "nbconvert_exporter": "python",
   "pygments_lexer": "ipython3",
   "version": "3.6.0"
  }
 },
 "nbformat": 4,
 "nbformat_minor": 2
}
