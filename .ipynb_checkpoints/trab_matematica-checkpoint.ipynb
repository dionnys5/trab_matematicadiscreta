{
 "cells": [
  {
   "cell_type": "code",
   "execution_count": null,
   "metadata": {
    "scrolled": false
   },
   "outputs": [],
   "source": [
    "from probabilidades import *\n",
    "import csv\n",
    "import pandas as pd\n",
    "\n",
    "PDSexo = ProbDist(\n",
    "    Sexo_M=4,\n",
    "    Sexo_F=1,\n",
    ")\n",
    "\n",
    "PDIdades = ProbDist(\n",
    "    {'Idade_A':4,\n",
    "    'Idade_B':1,\n",
    "    'Idade_C':0,\n",
    "    'Idade_D':0}\n",
    ")\n",
    "\n",
    "\n",
    "\n",
    "pd_idade_sexo = joint(PDSexo, PDIdades, ' ')\n",
    "\n",
    "with open('dados/trab_academicos.csv', 'r', encoding='utf8', newline='') as data:\n",
    "    dados_brutos = pd.read_csv(data, delimiter=',')"
   ]
  },
  {
   "cell_type": "code",
   "execution_count": null,
   "metadata": {
    "scrolled": false
   },
   "outputs": [],
   "source": [
    "#Nomalização de dados\n",
    "\n",
    "dados = dados_brutos.rename(columns={'Quais dos seguintes ambientes você utiliza na edição de seus trabalhos?': 'ambientes',\n",
    "                                    'Quais dos seguintes problemas você possui no momento da edição de trabalhos acadêmicos?': 'dificuldades',\n",
    "                                    'Quais destas opções você gostaria que uma ferramenta de edição fornecesse como ajuda na edição de um trabalho acadêmico?': 'ajuda',\n",
    "                                     'Com que frequência você realiza trabalhos acadêmicos?': 'frequencia',\n",
    "                                     'Qual sua formação acadêmica?': 'nivel_ensino'\n",
    "                                    })\n",
    "\n",
    "for col in dados.columns:\n",
    "    dados[col] = dados[col].str.lower()\n"
   ]
  },
  {
   "cell_type": "code",
   "execution_count": null,
   "metadata": {},
   "outputs": [],
   "source": [
    "#Funções de frequencia para montar as distribuições\n",
    "def frequencia_dado(coluna):\n",
    "    \"\"\"Busca as frequencias para todos os valores possíveis da coluna\n",
    "    param: Coluna a realizar a contagem da frequência\n",
    "    return: Dicionário com a estrutura Valor:Freq\n",
    "    \"\"\"\n",
    "    freq = {}\n",
    "    for nivel in dados[coluna].unique():\n",
    "        freq[nivel] = len(dados.loc[dados[coluna] == nivel])\n",
    "    return freq\n",
    "\n",
    "def frequencia_contida(coluna, data_freq):\n",
    "    \"\"\"Para perguntas com multiplas escolhas possíveis\n",
    "    param: Coluna do dados em que deve ocorrer a busca\n",
    "    param: Lista com os valores a serem buscadas as frêquencias\n",
    "    \"\"\"\n",
    "    freq = {}\n",
    "    for data in data_freq:\n",
    "        freq[data] = len(dados.loc[dados[coluna].str.contains(data)])\n",
    "    return freq\n",
    "\n",
    "\n",
    "   \n"
   ]
  },
  {
   "cell_type": "markdown",
   "metadata": {},
   "source": [
    "# Pergunta\n",
    "2. Dado que uma pessoa indique que sua formação acadêmica é Ensino Superior Incompleto qual a probabilidade de ela ter problemas com Criar referências, Fazer citações ou Numeração de páginas?"
   ]
  },
  {
   "cell_type": "code",
   "execution_count": 111,
   "metadata": {},
   "outputs": [],
   "source": [
    "freq_nivel = frequencia_dado('nivel_ensino')\n",
    "dist_ensino = ProbDist(freq_nivel)\n",
    "\n",
    "possivei_problemas = [\n",
    "    'criação de sumários', 'criação de lista de figuras', \n",
    "    'numeração de páginas', 'espaçamento do texto', 'alinhamento do texto', \n",
    "    'criar referências', 'fazer citações', 'criar tabelas', \n",
    "    'não compreender a ferramenta', 'outros'\n",
    "]\n",
    "\n",
    "freq_problemas = frequencia_contida('dificuldades', possivei_problemas)\n",
    "dist_problemas = ProbDist(freq_problemas)\n",
    "\n",
    "PDnivel_problema = joint(dist_ensino, dist_problemas, ' ')\n",
    "\n",
    "#Predicados\n",
    "def superior_incompleto(r):\n",
    "    return 'superior incompleto' in r\n",
    "\n",
    "def  dificuldades(r):\n",
    "    return 'criar referências' in r or 'fazer citações' in r or 'numeração de páginas' in r\n"
   ]
  },
  {
   "cell_type": "code",
   "execution_count": 119,
   "metadata": {},
   "outputs": [
    {
     "name": "stdout",
     "output_type": "stream",
     "text": [
      "A resposta da pergunta 2 é 73.2%'\n"
     ]
    }
   ],
   "source": [
    "#for i, z in PDnivel_problema.items():\n",
    "#    print('{} ---- {}'.format(i, z))\n",
    "probabilidade_resposta2 = P(superior_incompleto, tal_que(dificuldades , PDnivel_problema))\n",
    "print(\"A resposta da pergunta 2 é %.1f%%'\" % (probabilidade_resposta2 * 100))\n"
   ]
  }
 ],
 "metadata": {
  "kernelspec": {
   "display_name": "Python 3",
   "language": "python",
   "name": "python3"
  },
  "language_info": {
   "codemirror_mode": {
    "name": "ipython",
    "version": 3
   },
   "file_extension": ".py",
   "mimetype": "text/x-python",
   "name": "python",
   "nbconvert_exporter": "python",
   "pygments_lexer": "ipython3",
   "version": "3.6.0"
  }
 },
 "nbformat": 4,
 "nbformat_minor": 2
}
